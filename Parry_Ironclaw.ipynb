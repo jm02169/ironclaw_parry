{
 "cells": [
  {
   "cell_type": "code",
   "execution_count": 21,
   "metadata": {},
   "outputs": [
    {
     "name": "stdout",
     "output_type": "stream",
     "text": [
      "Base vs mook: 41.24%\n",
      "Cestus vs mook: 57.28%\n",
      "Ambidexterity + Cestus vs mook: 66.62%\n"
     ]
    }
   ],
   "source": [
    "import random\n",
    "\n",
    "base_successes_mook = 0\n",
    "cestus_successes_mook = 0\n",
    "ambi_cestus_successes_mook = 0\n",
    "base_successes_elite = 0\n",
    "cestus_successes_elite = 0\n",
    "ambi_cestus_successes_elite = 0\n",
    "\n",
    "base_dice = [10,8,6]\n",
    "cestus_dice = [12,10,8,6]\n",
    "ambi_cestus_dice = [12,12,10,8,6]\n",
    "mook_dice = [6,6,12]\n",
    "\n",
    "runs = 10000\n",
    "\n",
    "for i in range (runs):\n",
    "    x = max(random.randrange(base_dice[0]), random.randrange(base_dice[1]), random.randrange(base_dice[2]))\n",
    "    y = max(random.randrange(mook_dice[0]), random.randrange(mook_dice[1]), random.randrange(mook_dice[2]))\n",
    "    if x > y: \n",
    "        base_successes_mook +=1\n",
    "        \n",
    "for i in range (runs):\n",
    "    x = max(random.randrange(cestus_dice[0]), random.randrange(cestus_dice[1]), random.randrange(cestus_dice[2]), random.randrange(cestus_dice[3]))\n",
    "    y = max(random.randrange(mook_dice[0]), random.randrange(mook_dice[1]), random.randrange(mook_dice[2]))\n",
    "    if x > y: \n",
    "        cestus_successes_mook +=1\n",
    "     \n",
    "for i in range (runs):\n",
    "    x = max(random.randrange(ambi_cestus_dice[0]), random.randrange(ambi_cestus_dice[1]), random.randrange(ambi_cestus_dice[2]), random.randrange(ambi_cestus_dice[3]), random.randrange(ambi_cestus_dice[4]))\n",
    "    y = max(random.randrange(mook_dice[0]), random.randrange(mook_dice[1]), random.randrange(mook_dice[2]))\n",
    "    if x > y: \n",
    "        ambi_cestus_successes_mook +=1    \n",
    "    \n",
    "print(\"Base vs mook: \" + str(base_successes_mook/(runs/100))+\"%\")\n",
    "print(\"Cestus vs mook: \" + str(cestus_successes_mook/(runs/100))+\"%\")\n",
    "print(\"Ambidexterity + Cestus vs mook: \" + str(ambi_cestus_successes_mook/(runs/100))+\"%\")"
   ]
  },
  {
   "cell_type": "code",
   "execution_count": null,
   "metadata": {},
   "outputs": [],
   "source": []
  },
  {
   "cell_type": "code",
   "execution_count": null,
   "metadata": {},
   "outputs": [],
   "source": []
  }
 ],
 "metadata": {
  "kernelspec": {
   "display_name": "Python 3",
   "language": "python",
   "name": "python3"
  },
  "language_info": {
   "codemirror_mode": {
    "name": "ipython",
    "version": 3
   },
   "file_extension": ".py",
   "mimetype": "text/x-python",
   "name": "python",
   "nbconvert_exporter": "python",
   "pygments_lexer": "ipython3",
   "version": "3.7.4"
  }
 },
 "nbformat": 4,
 "nbformat_minor": 4
}
